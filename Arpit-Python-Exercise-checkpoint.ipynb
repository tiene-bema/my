{
 "cells": [
  {
   "cell_type": "markdown",
   "metadata": {},
   "source": [
    "# Exercise 1"
   ]
  },
  {
   "cell_type": "code",
   "execution_count": null,
   "metadata": {},
   "outputs": [],
   "source": [
    "msg = \"Hello World\"\n",
    "print(msg)"
   ]
  },
  {
   "cell_type": "markdown",
   "metadata": {},
   "source": [
    "# Exercise 2"
   ]
  },
  {
   "cell_type": "code",
   "execution_count": null,
   "metadata": {},
   "outputs": [],
   "source": [
    "name = input(\"Enter your name:\")\n",
    "print(\"Hello {}\".format(name))"
   ]
  },
  {
   "cell_type": "markdown",
   "metadata": {},
   "source": [
    "# Exercise 3"
   ]
  },
  {
   "cell_type": "code",
   "execution_count": null,
   "metadata": {},
   "outputs": [],
   "source": [
    "# for storing name as input from user\n",
    "name = input(\"Enter your name:\")\n",
    "age = input(\"Enter your age:\")\n",
    "# trying to print the input vars\n",
    "print(\"Hello {}. Your age is {} years.\".format(name,age))"
   ]
  },
  {
   "cell_type": "markdown",
   "metadata": {},
   "source": [
    "# Exercise 4"
   ]
  },
  {
   "cell_type": "code",
   "execution_count": null,
   "metadata": {},
   "outputs": [],
   "source": [
    "num1 = int(input(\"Enter number 1:\"))\n",
    "num2 = int(input(\"Enter number 2:\"))\n",
    "if(num1 > num2):\n",
    "    print(\"Greater number is number 1 with value: {}\".format(num1))\n",
    "else:\n",
    "    print(\"Greater number is number 2 with value: {}\".format(num2))"
   ]
  },
  {
   "cell_type": "markdown",
   "metadata": {},
   "source": [
    "# Exercise 5"
   ]
  },
  {
   "cell_type": "code",
   "execution_count": null,
   "metadata": {},
   "outputs": [],
   "source": [
    "age = int(input(\"Enter age:\"))\n",
    "if(age >= 18):\n",
    "    print(\"You are eligible to vote in India.\")\n",
    "else:\n",
    "    print(\"You are not eligible to vote in India.\")\n",
    "        "
   ]
  },
  {
   "cell_type": "code",
   "execution_count": null,
   "metadata": {},
   "outputs": [],
   "source": [
    "name = input(\"Enter name of your country\")\n",
    "if(name=='India'):\n",
    "    print('Your currency unit is in INR')\n",
    "elif(name=='USA'):\n",
    "    print('Your currency unit is in USD')\n",
    "elif(name=='UK'):\n",
    "    print('Your currency unit is in GBP')\n",
    "else:\n",
    "    print('BETTER LUCK NEXT TIME')"
   ]
  },
  {
   "cell_type": "code",
   "execution_count": null,
   "metadata": {},
   "outputs": [],
   "source": [
    "print('arpit'.upper())"
   ]
  },
  {
   "cell_type": "markdown",
   "metadata": {},
   "source": [
    "# Exercise 6 Introducing Dictionary"
   ]
  },
  {
   "cell_type": "code",
   "execution_count": null,
   "metadata": {},
   "outputs": [],
   "source": [
    "country_currency = {\n",
    "    \"India\":\"Rupee-INR\", \n",
    "    \"USA\": \"Dollar-USD\",   \n",
    "    \"UK\": \"Pound-GBP\"\n",
    "}\n",
    "country = input(\"Enter country name:\")\n",
    "if(country in country_currency):\n",
    "    print(\"Currency of {} is {}\".format(country, country_currency[country]))\n",
    "else:\n",
    "    print(\"Currency of this country is not known to me.\")"
   ]
  },
  {
   "cell_type": "markdown",
   "metadata": {},
   "source": [
    "# Exercise 7"
   ]
  },
  {
   "cell_type": "code",
   "execution_count": null,
   "metadata": {},
   "outputs": [],
   "source": [
    "gender = input(\"Enter gender:\")\n",
    "age = int(input(\"Enter age:\"))\n",
    "if((gender == \"Male\" and age >= 21) or (gender == \"Female\" and age >= 18)):\n",
    "    print(\"Eligible for marriage in India.\")\n",
    "else:\n",
    "    print(\"Not eligible for marriage in India.\")\n",
    "    "
   ]
  },
  {
   "cell_type": "markdown",
   "metadata": {},
   "source": [
    "# Exercise 8"
   ]
  },
  {
   "cell_type": "code",
   "execution_count": null,
   "metadata": {},
   "outputs": [],
   "source": [
    "a = int(input(\"Enter value of a:\"))\n",
    "b = int(input(\"Enter value of b:\"))\n",
    "i = 1\n",
    "#while(i<=b):\n",
    "#    print(\"{} * {} = {}\".format(a,i,a*i))\n",
    "#    i = i+1\n",
    "for i in range(1,b+1):\n",
    "    print(\"{} * {} = {}\".format(a,i,a*i))"
   ]
  },
  {
   "cell_type": "markdown",
   "metadata": {},
   "source": [
    "# Exercise 9: Introducing Python Lists , for loops and function"
   ]
  },
  {
   "cell_type": "code",
   "execution_count": null,
   "metadata": {},
   "outputs": [],
   "source": [
    "def printList(listoffruits):\n",
    "    for item in listoffruits:\n",
    "        print(item)\n",
    "        \n",
    "fruits = [\"apple\", \"banana\", \"orange\", \"grapes\"]\n",
    "printList(fruits)"
   ]
  },
  {
   "cell_type": "code",
   "execution_count": null,
   "metadata": {},
   "outputs": [],
   "source": [
    "def printStudentCutoff(std_sub, sub_cutoff):\n",
    "    for student in std_sub:\n",
    "        cutoff_marks = 0\n",
    "        for subject in std_sub[student]:\n",
    "            cutoff_marks = cutoff_marks + sub_cutoff[subject]\n",
    "        print(\"Cutoff marks for {} : {}\".format(student, cutoff_marks))\n",
    "    \n",
    "student_subjects = {\n",
    "    \"Ram\": [\"math\", 'phy', 'chem'],\n",
    "    \"Shyam\": ['comm', 'bio'],\n",
    "    \"Ramesh\": ['comm', 'math', 'phy']\n",
    "}\n",
    "\n",
    "subject_cutoff = {\n",
    "    \"math\": 10,\n",
    "    'phy': 5,\n",
    "    'chem': 8,\n",
    "    'comm': 15,\n",
    "    'bio': 7\n",
    "}\n",
    "printStudentCutoff(student_subjects, subject_cutoff)\n",
    "#printStudentCutoff(student_subjects, 10)\n"
   ]
  },
  {
   "cell_type": "markdown",
   "metadata": {},
   "source": [
    "# Exercise 10"
   ]
  },
  {
   "cell_type": "code",
   "execution_count": null,
   "metadata": {},
   "outputs": [],
   "source": [
    "# function for aggregating well-level production to field-level\n",
    "def printFieldProduction(field_well, well_prod):\n",
    "    for field in field_well:\n",
    "        # temporary variable for storing field's production\n",
    "        production = 0\n",
    "        for well in field_well[field]:\n",
    "            # add production of well to production of field\n",
    "            production += well_prod[well]\n",
    "        print(\"{0} has total production of {1}\".format(field, production))\n",
    "\n",
    "# holds of mapping of fields and wells\n",
    "field_well = {\"Field 1\": [\"Well 1\", \"Well 2\"], \n",
    "              \"Field 2\": [\"Well 3\", \"Well 4\"]\n",
    "             }\n",
    "\n",
    "# holds mapping of wells and production\n",
    "well_prod = {\"Well 1\": 10,\n",
    "             \"Well 2\": 20,\n",
    "             \"Well 3\": 30,\n",
    "             \"Well 4\": 40\n",
    "            }\n",
    "\n",
    "# function call to print field-wise production\n",
    "printFieldProduction(field_well, well_prod)"
   ]
  },
  {
   "cell_type": "code",
   "execution_count": null,
   "metadata": {},
   "outputs": [],
   "source": []
  }
 ],
 "metadata": {
  "kernelspec": {
   "display_name": "Python 3",
   "language": "python",
   "name": "python3"
  },
  "language_info": {
   "codemirror_mode": {
    "name": "ipython",
    "version": 3
   },
   "file_extension": ".py",
   "mimetype": "text/x-python",
   "name": "python",
   "nbconvert_exporter": "python",
   "pygments_lexer": "ipython3",
   "version": "3.7.4"
  }
 },
 "nbformat": 4,
 "nbformat_minor": 2
}
